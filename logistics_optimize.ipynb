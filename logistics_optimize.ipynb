{
  "nbformat": 4,
  "nbformat_minor": 0,
  "metadata": {
    "colab": {
      "provenance": []
    },
    "kernelspec": {
      "name": "python3",
      "display_name": "Python 3"
    },
    "language_info": {
      "name": "python"
    }
  },
  "cells": [
    {
      "cell_type": "code",
      "execution_count": 1,
      "metadata": {
        "colab": {
          "base_uri": "https://localhost:8080/"
        },
        "id": "QSZg9WqhEnsO",
        "outputId": "1ef7c031-7103-460a-8bb1-d8df5d5d226f"
      },
      "outputs": [
        {
          "output_type": "stream",
          "name": "stdout",
          "text": [
            "Collecting gurobipy\n",
            "  Downloading gurobipy-12.0.0-cp310-cp310-manylinux2014_x86_64.manylinux_2_17_x86_64.whl.metadata (15 kB)\n",
            "Downloading gurobipy-12.0.0-cp310-cp310-manylinux2014_x86_64.manylinux_2_17_x86_64.whl (14.4 MB)\n",
            "\u001b[2K   \u001b[90m━━━━━━━━━━━━━━━━━━━━━━━━━━━━━━━━━━━━━━━━\u001b[0m \u001b[32m14.4/14.4 MB\u001b[0m \u001b[31m15.8 MB/s\u001b[0m eta \u001b[36m0:00:00\u001b[0m\n",
            "\u001b[?25hInstalling collected packages: gurobipy\n",
            "Successfully installed gurobipy-12.0.0\n"
          ]
        }
      ],
      "source": [
        "# Install gurobipy library\n",
        "!pip install gurobipy"
      ]
    },
    {
      "cell_type": "code",
      "source": [
        "# Call gurobipy library\n",
        "import gurobipy as gp\n",
        "from gurobipy import *\n",
        "\n",
        "# Call pandas library\n",
        "import pandas as pd\n",
        "import gurobipy as grb\n",
        "import pandas as pd\n",
        "import matplotlib.pyplot as plt"
      ],
      "metadata": {
        "id": "BkgK0MwAEx0s"
      },
      "execution_count": 58,
      "outputs": []
    },
    {
      "cell_type": "code",
      "source": [
        "# Sets\n",
        "I = 5 # Set of manufacturer (1,2,3,4,5)\n",
        "J = 4 # Set of destination (HCM, HN, HP, DN)\n",
        "\n",
        "# Parameters\n",
        "contract_cost = [\n",
        "  [704986,704370,639831,781834],\n",
        "  [681994,744763,759315,727634],\n",
        "  [649896,669537,664394,653397],\n",
        "  [731885,753833,773519,699531],\n",
        "  [699373,653177,653177,670911]\n",
        "]\n",
        "\n",
        "demand = [40,50,37,35]\n",
        "\n",
        "supply = [50,38,31,45,31]"
      ],
      "metadata": {
        "id": "jmO47mCwEzjx"
      },
      "execution_count": 4,
      "outputs": []
    },
    {
      "cell_type": "markdown",
      "source": [
        "\n",
        "```\n",
        "Chào thầu cho thùng/1000 khẩu trang,,,,,\n",
        ",Hồ Chí Minh,Hà Nội,Hải Phòng,Đà Nẵng,\n",
        "Nhà sản xuất 1,\"  704,986.00 \",\"  704,370.00 \",\"  639,830.00 \",\"  781,834.00 \",\n",
        "Nhà sản xuất 2,\"  681,994.00 \",\"  744,763.00 \",\"  759,305.00 \",\"  727,634.00 \",\n",
        "Nhà sản xuất 3,\"  649,896.00 \",\"  669,537.00 \",\"  664,394.00 \",\"  653,397.00 \",\n",
        "Nhà sản xuất 4,\"  722,885.00 \",\"  753,833.00 \",\"  773,519.00 \",\"  699,529.00 \",\n",
        "Nhà sản xuất 5,\"  699,373.00 \",\"  652,477.00 \",\"  652,477.00 \",\"  670,911.00 \",\n",
        ",,,,,\n",
        "Nhu cầu của các Trung tâm như sau,,,,,\n",
        ",Hồ Chí Minh,Hà Nội,Hải Phòng,Đã Nẵng,\n",
        "Đơn vị: thùng/1000 cái,40,50,37,35,\n",
        ",,,,,\n",
        "Giới hạn về năng lực cung ứng  của các Nhà sản xuất,,,,,\n",
        ",Nhà sản xuất 1,Nhà sản xuất 2,Nhà sản xuất 3,Nhà sản xuất 4,Nhà sản xuất 5\n",
        "Đơn vị: thùng/1000 cái,50,38,30,45,30\n",
        "```\n"
      ],
      "metadata": {
        "id": "oyeyap4YJ6wI"
      }
    },
    {
      "cell_type": "markdown",
      "source": [
        "MINIMUM COST OF GOOD SOLD\n"
      ],
      "metadata": {
        "id": "Mp7v4h_8KE8P"
      }
    },
    {
      "cell_type": "code",
      "source": [
        "# Create model\n",
        "model = gp.Model('Network_Optimize')\n",
        "\n",
        "# Create variables x = model.addVars(*indices, lb=0.0, ub=None, obj=0.0, vtype=GRB.CONTINUOUS, name=\"\")\n",
        "x = model.addVars(I, J, lb=0, vtype=GRB.CONTINUOUS, name = 'ij')\n",
        "\n",
        "\n",
        "# Set objective function model.setObjective(expression, sense)\n",
        "objective = gp.quicksum(contract_cost[i][j]*x[i,j] for i in range(I) for j in range(J))\n",
        "\n",
        "model.setObjective(objective,GRB.MINIMIZE)\n",
        "\n",
        "# Constraints\n",
        "model.addConstrs((gp.quicksum(x[i,j] for j in range(J)) <= supply[i] for i in range(I)), name = 'supply constraint')\n",
        "model.addConstrs((gp.quicksum(x[i,j] for i in range(I)) == demand[j] for j in range(J)), name = 'demand constraint')\n"
      ],
      "metadata": {
        "colab": {
          "base_uri": "https://localhost:8080/"
        },
        "id": "HG2XZy8aGDkd",
        "outputId": "ed6143a1-5141-479f-db60-51b1abbc187b"
      },
      "execution_count": 16,
      "outputs": [
        {
          "output_type": "execute_result",
          "data": {
            "text/plain": [
              "{0: <gurobi.Constr *Awaiting Model Update*>,\n",
              " 1: <gurobi.Constr *Awaiting Model Update*>,\n",
              " 2: <gurobi.Constr *Awaiting Model Update*>,\n",
              " 3: <gurobi.Constr *Awaiting Model Update*>}"
            ]
          },
          "metadata": {},
          "execution_count": 16
        }
      ]
    },
    {
      "cell_type": "code",
      "source": [
        "# Optimize model\n",
        "model.optimize()"
      ],
      "metadata": {
        "colab": {
          "base_uri": "https://localhost:8080/"
        },
        "id": "9sRa-GGgHm1H",
        "outputId": "bf089c18-7424-4300-d2ff-c141e22b4ce0"
      },
      "execution_count": 17,
      "outputs": [
        {
          "output_type": "stream",
          "name": "stdout",
          "text": [
            "Gurobi Optimizer version 12.0.0 build v12.0.0rc1 (linux64 - \"Ubuntu 22.04.3 LTS\")\n",
            "\n",
            "CPU model: Intel(R) Xeon(R) CPU @ 2.20GHz, instruction set [SSE2|AVX|AVX2]\n",
            "Thread count: 1 physical cores, 2 logical processors, using up to 2 threads\n",
            "\n",
            "Optimize a model with 9 rows, 20 columns and 40 nonzeros\n",
            "Model fingerprint: 0xdf877507\n",
            "Coefficient statistics:\n",
            "  Matrix range     [1e+00, 1e+00]\n",
            "  Objective range  [6e+05, 8e+05]\n",
            "  Bounds range     [0e+00, 0e+00]\n",
            "  RHS range        [3e+01, 5e+01]\n",
            "Presolve time: 0.01s\n",
            "Presolved: 9 rows, 20 columns, 40 nonzeros\n",
            "\n",
            "Iteration    Objective       Primal Inf.    Dual Inf.      Time\n",
            "       0    1.0519733e+08   6.300000e+01   0.000000e+00      0s\n",
            "       6    1.0773433e+08   0.000000e+00   0.000000e+00      0s\n",
            "\n",
            "Solved in 6 iterations and 0.02 seconds (0.00 work units)\n",
            "Optimal objective  1.077343330e+08\n"
          ]
        }
      ]
    },
    {
      "cell_type": "code",
      "source": [
        "model.getVars()"
      ],
      "metadata": {
        "colab": {
          "base_uri": "https://localhost:8080/"
        },
        "id": "1xglSDWKGXrV",
        "outputId": "aada2c4b-97d7-44a1-c792-d44335917425"
      },
      "execution_count": 18,
      "outputs": [
        {
          "output_type": "execute_result",
          "data": {
            "text/plain": [
              "[<gurobi.Var ij[0,0] (value 0.0)>,\n",
              " <gurobi.Var ij[0,1] (value 13.0)>,\n",
              " <gurobi.Var ij[0,2] (value 37.0)>,\n",
              " <gurobi.Var ij[0,3] (value 0.0)>,\n",
              " <gurobi.Var ij[1,0] (value 38.0)>,\n",
              " <gurobi.Var ij[1,1] (value 0.0)>,\n",
              " <gurobi.Var ij[1,2] (value 0.0)>,\n",
              " <gurobi.Var ij[1,3] (value 0.0)>,\n",
              " <gurobi.Var ij[2,0] (value 2.0)>,\n",
              " <gurobi.Var ij[2,1] (value 6.0)>,\n",
              " <gurobi.Var ij[2,2] (value 0.0)>,\n",
              " <gurobi.Var ij[2,3] (value 23.0)>,\n",
              " <gurobi.Var ij[3,0] (value 0.0)>,\n",
              " <gurobi.Var ij[3,1] (value 0.0)>,\n",
              " <gurobi.Var ij[3,2] (value 0.0)>,\n",
              " <gurobi.Var ij[3,3] (value 12.0)>,\n",
              " <gurobi.Var ij[4,0] (value 0.0)>,\n",
              " <gurobi.Var ij[4,1] (value 31.0)>,\n",
              " <gurobi.Var ij[4,2] (value 0.0)>,\n",
              " <gurobi.Var ij[4,3] (value 0.0)>]"
            ]
          },
          "metadata": {},
          "execution_count": 18
        }
      ]
    },
    {
      "cell_type": "code",
      "source": [
        "model.ObjVal"
      ],
      "metadata": {
        "colab": {
          "base_uri": "https://localhost:8080/"
        },
        "id": "MrS6FK_yG9S1",
        "outputId": "19efbb1e-0e08-447c-ae90-e242309a1dfe"
      },
      "execution_count": 19,
      "outputs": [
        {
          "output_type": "execute_result",
          "data": {
            "text/plain": [
              "107734333.0"
            ]
          },
          "metadata": {},
          "execution_count": 19
        }
      ]
    },
    {
      "cell_type": "code",
      "source": [
        "\n",
        "\n",
        "# Assuming you have already created the model and solved it\n",
        "# model = grb.Model(...)\n",
        "\n",
        "# Step 1: Get variables after solving the model\n",
        "variables = model.getVars()\n",
        "\n",
        "# Step 2: Collect variable names and their corresponding values into a list or DataFrame\n",
        "var_names = [v.varName for v in variables]\n",
        "var_values = [v.X for v in variables]\n",
        "\n",
        "# Step 3: Create a DataFrame for easy visualization\n",
        "df = pd.DataFrame({\n",
        "    'Variable': var_names,\n",
        "    'Value': var_values\n",
        "})\n",
        "\n",
        "# Step 4: Display the DataFrame (or print the results)\n",
        "print(df)\n"
      ],
      "metadata": {
        "colab": {
          "base_uri": "https://localhost:8080/"
        },
        "id": "uA1nDRHzHP5K",
        "outputId": "7275de20-21dd-40f1-912f-3fb88ed32480"
      },
      "execution_count": 20,
      "outputs": [
        {
          "output_type": "stream",
          "name": "stdout",
          "text": [
            "   Variable  Value\n",
            "0   ij[0,0]    0.0\n",
            "1   ij[0,1]   13.0\n",
            "2   ij[0,2]   37.0\n",
            "3   ij[0,3]    0.0\n",
            "4   ij[1,0]   38.0\n",
            "5   ij[1,1]    0.0\n",
            "6   ij[1,2]    0.0\n",
            "7   ij[1,3]    0.0\n",
            "8   ij[2,0]    2.0\n",
            "9   ij[2,1]    6.0\n",
            "10  ij[2,2]    0.0\n",
            "11  ij[2,3]   23.0\n",
            "12  ij[3,0]    0.0\n",
            "13  ij[3,1]    0.0\n",
            "14  ij[3,2]    0.0\n",
            "15  ij[3,3]   12.0\n",
            "16  ij[4,0]    0.0\n",
            "17  ij[4,1]   31.0\n",
            "18  ij[4,2]    0.0\n",
            "19  ij[4,3]    0.0\n"
          ]
        }
      ]
    },
    {
      "cell_type": "code",
      "source": [
        "import seaborn as sns\n",
        "import numpy as np\n",
        "\n",
        "# Reshape the data into a 5x4 matrix (since there are 5 rows and 4 columns)\n",
        "matrix = np.array([\n",
        "    [0.0, 13.0, 37.0, 0.0],\n",
        "    [38.0, 0.0, 0.0, 0.0],\n",
        "    [2.0, 6.0, 0.0, 23.0],\n",
        "    [0.0, 0.0, 0.0, 12.0],\n",
        "    [0.0, 31.0, 0.0, 0.0]\n",
        "])\n",
        "\n",
        "# Create a heatmap\n",
        "plt.figure(figsize=(8, 6))\n",
        "sns.heatmap(matrix, annot=True, cmap='YlGnBu', xticklabels=['0', '1', '2', '3'], yticklabels=['0', '1', '2', '3', '4'])\n",
        "plt.title('Heatmap of Variable Values')\n",
        "plt.xlabel('Column Index')\n",
        "plt.ylabel('Row Index')\n",
        "plt.show()"
      ],
      "metadata": {
        "colab": {
          "base_uri": "https://localhost:8080/",
          "height": 564
        },
        "id": "DSGPMeheIm4T",
        "outputId": "d0a063df-87f0-4e8b-e168-96dac423d80c"
      },
      "execution_count": 21,
      "outputs": [
        {
          "output_type": "display_data",
          "data": {
            "text/plain": [
              "<Figure size 800x600 with 2 Axes>"
            ],
            "image/png": "[encoded data removed]"
          },
          "metadata": {}
        }
      ]
    },
    {
      "cell_type": "markdown",
      "source": [
        "Add condition: Trong trường hợp Nhà sản xuất 1 chỉ đồng ý ký hợp đồng khi lượng mua từ 15000 cái trở lên."
      ],
      "metadata": {
        "id": "8CcZBPTRKNnE"
      }
    },
    {
      "cell_type": "code",
      "source": [
        "# Sets\n",
        "I = 5 # Set of manufacturer (1,2,3,4,5)\n",
        "J = 4 # Set of destination (HCM, HN, HP, DN)\n",
        "\n",
        "# Parameters\n",
        "contract_cost = [\n",
        "  [704986,704370,639831,781834],\n",
        "  [681994,744763,759315,727634],\n",
        "  [649896,669537,664394,653397],\n",
        "  [731885,753833,773519,699531],\n",
        "  [699373,653177,653177,670911]\n",
        "]\n",
        "\n",
        "demand = [40,50,37,35]\n",
        "\n",
        "supply = [50,38,31,45,31]"
      ],
      "metadata": {
        "id": "T8yJD5D7JfT8"
      },
      "execution_count": 22,
      "outputs": []
    },
    {
      "cell_type": "code",
      "source": [
        "# Create model\n",
        "model1_2 = gp.Model('Network_Optimize1.2')\n",
        "\n",
        "# Create variables x = model.addVars(*indices, lb=0.0, ub=None, obj=0.0, vtype=GRB.CONTINUOUS, name=\"\")\n",
        "x = model1_2.addVars(I, J, lb=0, vtype=GRB.CONTINUOUS, name = 'ij')\n",
        "\n",
        "\n",
        "# Set objective function model.setObjective(expression, sense)\n",
        "objective = gp.quicksum(contract_cost[i][j]*x[i,j] for i in range(I) for j in range(J))\n",
        "\n",
        "model1_2.setObjective(objective,GRB.MINIMIZE)\n",
        "\n",
        "# Constraints\n",
        "model1_2.addConstrs((gp.quicksum(x[i,j] for j in range(J)) <= supply[i] for i in range(I)), name = 'supply constraint')\n",
        "model1_2.addConstrs((gp.quicksum(x[i,j] for i in range(I)) == demand[j] for j in range(J)), name = 'demand constraint')\n",
        "\n",
        "z = model1_2.addVars(J, vtype=gp.GRB.BINARY, name=\"z\")\n",
        "model1_2.addConstrs((x[0,j] >= 15 * z[j] for j in range(J)), name='min_value_constraint')\n",
        "model1_2.addConstrs((x[0,j] <= 15 * z[j] for j in range(J)), name='binary_constraint')\n",
        "\n"
      ],
      "metadata": {
        "colab": {
          "base_uri": "https://localhost:8080/"
        },
        "id": "wyqEAMx6J3pl",
        "outputId": "e6cef4ad-0ca0-4d95-c965-930a6a743306"
      },
      "execution_count": 65,
      "outputs": [
        {
          "output_type": "execute_result",
          "data": {
            "text/plain": [
              "{0: <gurobi.Constr *Awaiting Model Update*>,\n",
              " 1: <gurobi.Constr *Awaiting Model Update*>,\n",
              " 2: <gurobi.Constr *Awaiting Model Update*>,\n",
              " 3: <gurobi.Constr *Awaiting Model Update*>}"
            ]
          },
          "metadata": {},
          "execution_count": 65
        }
      ]
    },
    {
      "cell_type": "code",
      "source": [
        "# Optimize model\n",
        "model1_2.optimize()"
      ],
      "metadata": {
        "colab": {
          "base_uri": "https://localhost:8080/"
        },
        "id": "oyOqeWlCK4hw",
        "outputId": "d309b9ce-b1c0-4e42-b133-ed5043d9941a"
      },
      "execution_count": 66,
      "outputs": [
        {
          "output_type": "stream",
          "name": "stdout",
          "text": [
            "Gurobi Optimizer version 12.0.0 build v12.0.0rc1 (linux64 - \"Ubuntu 22.04.3 LTS\")\n",
            "\n",
            "CPU model: Intel(R) Xeon(R) CPU @ 2.20GHz, instruction set [SSE2|AVX|AVX2]\n",
            "Thread count: 1 physical cores, 2 logical processors, using up to 2 threads\n",
            "\n",
            "Optimize a model with 17 rows, 24 columns and 56 nonzeros\n",
            "Model fingerprint: 0x0b154b7d\n",
            "Variable types: 20 continuous, 4 integer (4 binary)\n",
            "Coefficient statistics:\n",
            "  Matrix range     [1e+00, 2e+01]\n",
            "  Objective range  [6e+05, 8e+05]\n",
            "  Bounds range     [1e+00, 1e+00]\n",
            "  RHS range        [3e+01, 5e+01]\n",
            "Presolve removed 8 rows and 4 columns\n",
            "Presolve time: 0.00s\n",
            "Presolved: 9 rows, 20 columns, 40 nonzeros\n",
            "Variable types: 16 continuous, 4 integer (4 binary)\n",
            "\n",
            "Root relaxation: objective 1.092671e+08, 6 iterations, 0.00 seconds (0.00 work units)\n",
            "\n",
            "    Nodes    |    Current Node    |     Objective Bounds      |     Work\n",
            " Expl Unexpl |  Obj  Depth IntInf | Incumbent    BestBd   Gap | It/Node Time\n",
            "\n",
            "*    0     0               0    1.092671e+08 1.0927e+08  0.00%     -    0s\n",
            "\n",
            "Explored 1 nodes (6 simplex iterations) in 0.03 seconds (0.00 work units)\n",
            "Thread count was 2 (of 2 available processors)\n",
            "\n",
            "Solution count 1: 1.09267e+08 \n",
            "\n",
            "Optimal solution found (tolerance 1.00e-04)\n",
            "Best objective 1.092670650000e+08, best bound 1.092670650000e+08, gap 0.0000%\n"
          ]
        }
      ]
    },
    {
      "cell_type": "code",
      "source": [
        "if model1_2.status == gp.GRB.OPTIMAL:\n",
        "    print(\"Optimal solution found.\")\n",
        "elif model1_2.status == gp.GRB.INFEASIBLE:\n",
        "    print(\"Model is infeasible.\")\n",
        "elif model1_2.status == gp.GRB.UNBOUNDED:\n",
        "    print(\"Model is unbounded.\")\n",
        "else:\n",
        "    print(\"Optimization was terminated.\")"
      ],
      "metadata": {
        "colab": {
          "base_uri": "https://localhost:8080/"
        },
        "id": "IrAonxzQLvKn",
        "outputId": "ed7de042-3288-4729-f6f8-7b79d006b049"
      },
      "execution_count": 67,
      "outputs": [
        {
          "output_type": "stream",
          "name": "stdout",
          "text": [
            "Optimal solution found.\n"
          ]
        }
      ]
    },
    {
      "cell_type": "code",
      "source": [
        "model1_2.getVars()"
      ],
      "metadata": {
        "colab": {
          "base_uri": "https://localhost:8080/"
        },
        "id": "Un_2RatqQUVa",
        "outputId": "5538382a-53f2-41e5-e079-9bd979c1dce7"
      },
      "execution_count": 68,
      "outputs": [
        {
          "output_type": "execute_result",
          "data": {
            "text/plain": [
              "[<gurobi.Var ij[0,0] (value 0.0)>,\n",
              " <gurobi.Var ij[0,1] (value 15.0)>,\n",
              " <gurobi.Var ij[0,2] (value 15.0)>,\n",
              " <gurobi.Var ij[0,3] (value 0.0)>,\n",
              " <gurobi.Var ij[1,0] (value 38.0)>,\n",
              " <gurobi.Var ij[1,1] (value 0.0)>,\n",
              " <gurobi.Var ij[1,2] (value 0.0)>,\n",
              " <gurobi.Var ij[1,3] (value 0.0)>,\n",
              " <gurobi.Var ij[2,0] (value 2.0)>,\n",
              " <gurobi.Var ij[2,1] (value 4.0)>,\n",
              " <gurobi.Var ij[2,2] (value 22.0)>,\n",
              " <gurobi.Var ij[2,3] (value 3.0)>,\n",
              " <gurobi.Var ij[3,0] (value 0.0)>,\n",
              " <gurobi.Var ij[3,1] (value 0.0)>,\n",
              " <gurobi.Var ij[3,2] (value 0.0)>,\n",
              " <gurobi.Var ij[3,3] (value 32.0)>,\n",
              " <gurobi.Var ij[4,0] (value 0.0)>,\n",
              " <gurobi.Var ij[4,1] (value 31.0)>,\n",
              " <gurobi.Var ij[4,2] (value 0.0)>,\n",
              " <gurobi.Var ij[4,3] (value 0.0)>,\n",
              " <gurobi.Var z[0] (value -0.0)>,\n",
              " <gurobi.Var z[1] (value 1.0)>,\n",
              " <gurobi.Var z[2] (value 1.0)>,\n",
              " <gurobi.Var z[3] (value -0.0)>]"
            ]
          },
          "metadata": {},
          "execution_count": 68
        }
      ]
    },
    {
      "cell_type": "code",
      "source": [
        "model1_2.ObjVal"
      ],
      "metadata": {
        "colab": {
          "base_uri": "https://localhost:8080/"
        },
        "id": "QK6R01prTUv0",
        "outputId": "9533460e-6751-4b8f-aad4-cc1f8b48d58d"
      },
      "execution_count": 63,
      "outputs": [
        {
          "output_type": "execute_result",
          "data": {
            "text/plain": [
              "109267065.0"
            ]
          },
          "metadata": {},
          "execution_count": 63
        }
      ]
    },
    {
      "cell_type": "code",
      "source": [
        "\n",
        "\n",
        "# Assuming you have already created the model and solved it\n",
        "# model = grb.Model(...)\n",
        "\n",
        "# Step 1: Get variables after solving the model\n",
        "variables = model1_2.getVars()\n",
        "\n",
        "# Step 2: Collect variable names and their corresponding values into a list or DataFrame\n",
        "var_names = [v.varName for v in variables]\n",
        "var_values = [v.X for v in variables]\n",
        "\n",
        "# Step 3: Create a DataFrame for easy visualization\n",
        "df = pd.DataFrame({\n",
        "    'Variable': var_names,\n",
        "    'Value': var_values\n",
        "})\n",
        "\n",
        "# Step 4: Display the DataFrame (or print the results)\n",
        "print(df)"
      ],
      "metadata": {
        "colab": {
          "base_uri": "https://localhost:8080/"
        },
        "id": "1I3sF3s8TfEx",
        "outputId": "a54a1bbb-61e4-4a37-eb07-431f5604dcdd"
      },
      "execution_count": 69,
      "outputs": [
        {
          "output_type": "stream",
          "name": "stdout",
          "text": [
            "   Variable  Value\n",
            "0   ij[0,0]    0.0\n",
            "1   ij[0,1]   15.0\n",
            "2   ij[0,2]   15.0\n",
            "3   ij[0,3]    0.0\n",
            "4   ij[1,0]   38.0\n",
            "5   ij[1,1]    0.0\n",
            "6   ij[1,2]    0.0\n",
            "7   ij[1,3]    0.0\n",
            "8   ij[2,0]    2.0\n",
            "9   ij[2,1]    4.0\n",
            "10  ij[2,2]   22.0\n",
            "11  ij[2,3]    3.0\n",
            "12  ij[3,0]    0.0\n",
            "13  ij[3,1]    0.0\n",
            "14  ij[3,2]    0.0\n",
            "15  ij[3,3]   32.0\n",
            "16  ij[4,0]    0.0\n",
            "17  ij[4,1]   31.0\n",
            "18  ij[4,2]    0.0\n",
            "19  ij[4,3]    0.0\n",
            "20     z[0]   -0.0\n",
            "21     z[1]    1.0\n",
            "22     z[2]    1.0\n",
            "23     z[3]   -0.0\n"
          ]
        }
      ]
    },
    {
      "cell_type": "code",
      "source": [
        "import seaborn as sns\n",
        "import numpy as np\n",
        "import matplotlib.pyplot as plt\n",
        "\n",
        "# Create a 5x4 matrix from the given data\n",
        "matrix = np.array([\n",
        "    [0.0, 15.0, 15.0, 0.0],\n",
        "    [38.0, 0.0, 0.0, 0.0],\n",
        "    [2.0, 4.0, 22.0, 3.0],\n",
        "    [0.0, 0.0, 0.0, 32.0],\n",
        "    [0.0, 31.0, 0.0, 0.0]\n",
        "])\n",
        "\n",
        "# Create a heatmap\n",
        "plt.figure(figsize=(8, 6))\n",
        "sns.heatmap(matrix, annot=True, cmap='YlGnBu', xticklabels=[0, 1, 2, 3], yticklabels=[0, 1, 2, 3, 4])\n",
        "plt.title('Heatmap of Variable Values')\n",
        "plt.xlabel('Column Index')\n",
        "plt.ylabel('Row Index')\n",
        "plt.show()"
      ],
      "metadata": {
        "colab": {
          "base_uri": "https://localhost:8080/",
          "height": 564
        },
        "id": "OV3oxAUsTlhq",
        "outputId": "80f2a8c0-ae19-44f2-ada0-8d9cef83bfbf"
      },
      "execution_count": 70,
      "outputs": [
        {
          "output_type": "display_data",
          "data": {
            "text/plain": [
              "<Figure size 800x600 with 2 Axes>"
            ],
            "image/png": "[encoded data removed]"
          },
          "metadata": {}
        }
      ]
    },
    {
      "cell_type": "code",
      "source": [
        "Câu 1.3: Trong trường hợp Nhà sản xuất 2 chỉ đồng ý ký hợp đồng khi lượng mua là bội số của 3000 cái.\n",
        "             Hợp đồng được ký theo từng Trung tâm cụ thể."
      ],
      "metadata": {
        "id": "b4HQ5DJYYUui"
      },
      "execution_count": null,
      "outputs": []
    },
    {
      "cell_type": "code",
      "source": [
        "# Sets\n",
        "I = 5 # Set of manufacturer (1,2,3,4,5)\n",
        "J = 4 # Set of destination (HCM, HN, HP, DN)\n",
        "\n",
        "# Parameters\n",
        "contract_cost = [\n",
        "  [704986,704370,639831,781834],\n",
        "  [681994,744763,759315,727634],\n",
        "  [649896,669537,664394,653397],\n",
        "  [731885,753833,773519,699531],\n",
        "  [699373,653177,653177,670911]\n",
        "]\n",
        "\n",
        "demand = [40,50,37,35]\n",
        "\n",
        "supply = [50,38,31,45,31]"
      ],
      "metadata": {
        "id": "cfgitbb8T2GF"
      },
      "execution_count": 71,
      "outputs": []
    },
    {
      "cell_type": "code",
      "source": [
        "# Create model\n",
        "model1_3 = gp.Model('Network_Optimize1.3')\n",
        "\n",
        "# Create variables x = model.addVars(*indices, lb=0.0, ub=None, obj=0.0, vtype=GRB.CONTINUOUS, name=\"\")\n",
        "x = model1_3.addVars(I, J, lb=0, vtype=GRB.CONTINUOUS, name = 'ij')\n",
        "\n",
        "\n",
        "# Set objective function model.setObjective(expression, sense)\n",
        "objective = gp.quicksum(contract_cost[i][j]*x[i,j] for i in range(I) for j in range(J))\n",
        "\n",
        "model1_3.setObjective(objective,GRB.MINIMIZE)\n",
        "\n",
        "# Constraints\n",
        "model1_3.addConstrs((gp.quicksum(x[i,j] for j in range(J)) <= supply[i] for i in range(I)), name = 'supply constraint')\n",
        "model1_3.addConstrs((gp.quicksum(x[i,j] for i in range(I)) == demand[j] for j in range(J)), name = 'demand constraint')\n",
        "k = model1_3.addVars(J, vtype=gp.GRB.INTEGER, name=\"k\")\n",
        "model1_3.addConstrs((x[1,j] == 3 * k[j] for j in range(J)), name='multiple_of_3_constraint')"
      ],
      "metadata": {
        "colab": {
          "base_uri": "https://localhost:8080/"
        },
        "id": "pvz7KefQYTX7",
        "outputId": "f3502dcb-d669-4f98-8e27-8dca7011eee4"
      },
      "execution_count": 72,
      "outputs": [
        {
          "output_type": "execute_result",
          "data": {
            "text/plain": [
              "{0: <gurobi.Constr *Awaiting Model Update*>,\n",
              " 1: <gurobi.Constr *Awaiting Model Update*>,\n",
              " 2: <gurobi.Constr *Awaiting Model Update*>,\n",
              " 3: <gurobi.Constr *Awaiting Model Update*>}"
            ]
          },
          "metadata": {},
          "execution_count": 72
        }
      ]
    },
    {
      "cell_type": "code",
      "source": [
        "# Optimize model\n",
        "model1_3.optimize()"
      ],
      "metadata": {
        "colab": {
          "base_uri": "https://localhost:8080/"
        },
        "id": "DGkVYb9fYx8b",
        "outputId": "d347b86b-229b-44c5-ef7c-fa6e3878d6af"
      },
      "execution_count": 73,
      "outputs": [
        {
          "output_type": "stream",
          "name": "stdout",
          "text": [
            "Gurobi Optimizer version 12.0.0 build v12.0.0rc1 (linux64 - \"Ubuntu 22.04.3 LTS\")\n",
            "\n",
            "CPU model: Intel(R) Xeon(R) CPU @ 2.20GHz, instruction set [SSE2|AVX|AVX2]\n",
            "Thread count: 1 physical cores, 2 logical processors, using up to 2 threads\n",
            "\n",
            "Optimize a model with 13 rows, 24 columns and 48 nonzeros\n",
            "Model fingerprint: 0xf21387ba\n",
            "Variable types: 20 continuous, 4 integer (0 binary)\n",
            "Coefficient statistics:\n",
            "  Matrix range     [1e+00, 3e+00]\n",
            "  Objective range  [6e+05, 8e+05]\n",
            "  Bounds range     [0e+00, 0e+00]\n",
            "  RHS range        [3e+01, 5e+01]\n",
            "Presolve removed 4 rows and 4 columns\n",
            "Presolve time: 0.00s\n",
            "Presolved: 9 rows, 20 columns, 40 nonzeros\n",
            "Variable types: 16 continuous, 4 integer (0 binary)\n",
            "\n",
            "Root relaxation: objective 1.077624e+08, 5 iterations, 0.00 seconds (0.00 work units)\n",
            "\n",
            "    Nodes    |    Current Node    |     Objective Bounds      |     Work\n",
            " Expl Unexpl |  Obj  Depth IntInf | Incumbent    BestBd   Gap | It/Node Time\n",
            "\n",
            "*    0     0               0    1.077624e+08 1.0776e+08  0.00%     -    0s\n",
            "\n",
            "Explored 1 nodes (5 simplex iterations) in 0.03 seconds (0.00 work units)\n",
            "Thread count was 2 (of 2 available processors)\n",
            "\n",
            "Solution count 1: 1.07762e+08 \n",
            "\n",
            "Optimal solution found (tolerance 1.00e-04)\n",
            "Best objective 1.077624050000e+08, best bound 1.077624050000e+08, gap 0.0000%\n"
          ]
        }
      ]
    },
    {
      "cell_type": "code",
      "source": [
        "import re # Import the 're' module for regular expressions\n",
        "import numpy as np\n",
        "import pandas as pd\n",
        "import seaborn as sns\n",
        "import matplotlib.pyplot as plt\n",
        "import gurobipy as gp\n",
        "from gurobipy import GRB\n",
        "\n",
        "\n",
        "# Assuming you have already created the model and solved it\n",
        "# model = grb.Model(...)\n",
        "\n",
        "# Step 1: Get variables after solving the model\n",
        "variables = model1_3.getVars()\n",
        "\n",
        "# Step 2: Collect variable names and their corresponding values into a list or DataFrame\n",
        "var_names = [v.varName for v in variables]\n",
        "var_values = [v.X for v in variables]\n",
        "\n",
        "# Step 3: Create a DataFrame for easy visualization\n",
        "df = pd.DataFrame({\n",
        "    'Variable': var_names,\n",
        "    'Value': var_values\n",
        "})\n",
        "\n",
        "# Step 4: Display the DataFrame (or print the results)\n",
        "print(df)\n",
        "\n",
        "\n",
        "matrix = np.zeros((I, J))\n",
        "\n",
        "for v in variables:\n",
        "    # Use regular expression to extract indices\n",
        "    match = re.search(r'\\[(\\d+),(\\d+)\\]', v.varName)  # Find indices within brackets\n",
        "    if match:\n",
        "        i, j = map(int, match.groups())  # Convert matched groups to integers\n",
        "        matrix[i, j] = v.X\n",
        "\n",
        "# Bước 5: Vẽ heatmap\n",
        "plt.figure(figsize=(8, 6))\n",
        "sns.heatmap(matrix, annot=True, cmap='YlGnBu', xticklabels=[f'j{j}' for j in range(J)], yticklabels=[f'i{i}' for j in range(I)]) # Corrected to range(I)\n",
        "plt.title('Heatmap of Variable Values')\n",
        "plt.xlabel('j (Trung tâm)')\n",
        "plt.ylabel('i (Nhà sản xuất)')\n",
        "plt.show()"
      ],
      "metadata": {
        "colab": {
          "base_uri": "https://localhost:8080/",
          "height": 999
        },
        "id": "SzbqWn54ZLoj",
        "outputId": "6dbfce8e-3671-4aa1-c8c1-00931b999a0d"
      },
      "execution_count": 78,
      "outputs": [
        {
          "output_type": "stream",
          "name": "stdout",
          "text": [
            "   Variable  Value\n",
            "0   ij[0,0]    0.0\n",
            "1   ij[0,1]   13.0\n",
            "2   ij[0,2]   37.0\n",
            "3   ij[0,3]    0.0\n",
            "4   ij[1,0]   36.0\n",
            "5   ij[1,1]    0.0\n",
            "6   ij[1,2]    0.0\n",
            "7   ij[1,3]    0.0\n",
            "8   ij[2,0]    4.0\n",
            "9   ij[2,1]    6.0\n",
            "10  ij[2,2]    0.0\n",
            "11  ij[2,3]   21.0\n",
            "12  ij[3,0]    0.0\n",
            "13  ij[3,1]    0.0\n",
            "14  ij[3,2]    0.0\n",
            "15  ij[3,3]   14.0\n",
            "16  ij[4,0]    0.0\n",
            "17  ij[4,1]   31.0\n",
            "18  ij[4,2]    0.0\n",
            "19  ij[4,3]    0.0\n",
            "20     k[0]   12.0\n",
            "21     k[1]   -0.0\n",
            "22     k[2]   -0.0\n",
            "23     k[3]   -0.0\n"
          ]
        },
        {
          "output_type": "display_data",
          "data": {
            "text/plain": [
              "<Figure size 800x600 with 2 Axes>"
            ],
            "image/png": "[encoded data removed]"
          },
          "metadata": {}
        }
      ]
    },
    {
      "cell_type": "code",
      "source": [
        "model1_3.ObjVal"
      ],
      "metadata": {
        "colab": {
          "base_uri": "https://localhost:8080/"
        },
        "id": "rmTQVkB5ZD7k",
        "outputId": "99c33881-3694-40d8-eac7-0ad275f8a0d2"
      },
      "execution_count": 79,
      "outputs": [
        {
          "output_type": "execute_result",
          "data": {
            "text/plain": [
              "107762405.0"
            ]
          },
          "metadata": {},
          "execution_count": 79
        }
      ]
    },
    {
      "cell_type": "code",
      "source": [
        "# Create model\n",
        "model1_4 = gp.Model('Network_Optimize1.4')\n",
        "\n",
        "# Create variables x = model.addVars(*indices, lb=0.0, ub=None, obj=0.0, vtype=GRB.CONTINUOUS, name=\"\")\n",
        "x = model1_4.addVars(I, J, lb=0, vtype=GRB.CONTINUOUS, name = 'ij')\n",
        "\n",
        "\n",
        "# Set objective function model.setObjective(expression, sense)\n",
        "objective = gp.quicksum(contract_cost[i][j]*x[i,j] for i in range(I) for j in range(J))\n",
        "\n",
        "model1_4.setObjective(objective,GRB.MINIMIZE)\n",
        "\n",
        "# Constraints\n",
        "model1_4.addConstrs((gp.quicksum(x[i,j] for j in range(J)) <= supply[i] for i in range(I)), name = 'supply constraint')\n",
        "model1_4.addConstrs((gp.quicksum(x[i,j] for i in range(I)) == demand[j] for j in range(J)), name = 'demand constraint')\n",
        "\n",
        "z = model1_4.addVars(J, vtype=gp.GRB.BINARY, name=\"z\")\n",
        "model1_4.addConstrs((x[0,j] >= 15 * z[j] for j in range(J)), name='min_value_constraint')\n",
        "model1_4.addConstrs((x[0,j] <= 15 * z[j] for j in range(J)), name='binary_constraint')\n",
        "\n",
        "k = model1_4.addVars(J, vtype=gp.GRB.INTEGER, name=\"k\")\n",
        "model1_4.addConstrs((x[1,j] == 3 * k[j] for j in range(J)), name='multiple_of_3_constraint')"
      ],
      "metadata": {
        "colab": {
          "base_uri": "https://localhost:8080/"
        },
        "id": "GxMQmEZGafCA",
        "outputId": "bd95d198-0b8d-436b-f712-fd1d9cba876a"
      },
      "execution_count": 80,
      "outputs": [
        {
          "output_type": "execute_result",
          "data": {
            "text/plain": [
              "{0: <gurobi.Constr *Awaiting Model Update*>,\n",
              " 1: <gurobi.Constr *Awaiting Model Update*>,\n",
              " 2: <gurobi.Constr *Awaiting Model Update*>,\n",
              " 3: <gurobi.Constr *Awaiting Model Update*>}"
            ]
          },
          "metadata": {},
          "execution_count": 80
        }
      ]
    },
    {
      "cell_type": "code",
      "source": [
        "# Optimize model\n",
        "model1_4.optimize()"
      ],
      "metadata": {
        "colab": {
          "base_uri": "https://localhost:8080/"
        },
        "id": "dRJwPTjfc3z9",
        "outputId": "242a3014-32c2-49f1-d974-956c494792b8"
      },
      "execution_count": 81,
      "outputs": [
        {
          "output_type": "stream",
          "name": "stdout",
          "text": [
            "Gurobi Optimizer version 12.0.0 build v12.0.0rc1 (linux64 - \"Ubuntu 22.04.3 LTS\")\n",
            "\n",
            "CPU model: Intel(R) Xeon(R) CPU @ 2.20GHz, instruction set [SSE2|AVX|AVX2]\n",
            "Thread count: 1 physical cores, 2 logical processors, using up to 2 threads\n",
            "\n",
            "Optimize a model with 21 rows, 28 columns and 64 nonzeros\n",
            "Model fingerprint: 0xd437ab3a\n",
            "Variable types: 20 continuous, 8 integer (4 binary)\n",
            "Coefficient statistics:\n",
            "  Matrix range     [1e+00, 2e+01]\n",
            "  Objective range  [6e+05, 8e+05]\n",
            "  Bounds range     [1e+00, 1e+00]\n",
            "  RHS range        [3e+01, 5e+01]\n",
            "Presolve removed 12 rows and 8 columns\n",
            "Presolve time: 0.00s\n",
            "Presolved: 9 rows, 20 columns, 40 nonzeros\n",
            "Variable types: 12 continuous, 8 integer (4 binary)\n",
            "\n",
            "Root relaxation: objective 1.092951e+08, 5 iterations, 0.00 seconds (0.00 work units)\n",
            "\n",
            "    Nodes    |    Current Node    |     Objective Bounds      |     Work\n",
            " Expl Unexpl |  Obj  Depth IntInf | Incumbent    BestBd   Gap | It/Node Time\n",
            "\n",
            "*    0     0               0    1.092951e+08 1.0930e+08  0.00%     -    0s\n",
            "\n",
            "Explored 1 nodes (5 simplex iterations) in 0.05 seconds (0.00 work units)\n",
            "Thread count was 2 (of 2 available processors)\n",
            "\n",
            "Solution count 1: 1.09295e+08 \n",
            "\n",
            "Optimal solution found (tolerance 1.00e-04)\n",
            "Best objective 1.092951370000e+08, best bound 1.092951370000e+08, gap 0.0000%\n"
          ]
        }
      ]
    },
    {
      "cell_type": "code",
      "source": [
        "model1_4.ObjVal"
      ],
      "metadata": {
        "colab": {
          "base_uri": "https://localhost:8080/"
        },
        "id": "-MJgeQpec_PG",
        "outputId": "bd063d2d-b390-4655-d4d7-00374971ee33"
      },
      "execution_count": 82,
      "outputs": [
        {
          "output_type": "execute_result",
          "data": {
            "text/plain": [
              "109295137.0"
            ]
          },
          "metadata": {},
          "execution_count": 82
        }
      ]
    },
    {
      "cell_type": "code",
      "source": [
        "\n",
        "\n",
        "# Step 1: Get variables after solving the model\n",
        "variables = model1_4.getVars()\n",
        "\n",
        "# Step 2: Collect variable names and their corresponding values into a list or DataFrame\n",
        "var_names = [v.varName for v in variables]\n",
        "var_values = [v.X for v in variables]\n",
        "\n",
        "# Step 3: Create a DataFrame for easy visualization\n",
        "df = pd.DataFrame({\n",
        "    'Variable': var_names,\n",
        "    'Value': var_values\n",
        "})\n",
        "\n",
        "# Step 4: Display the DataFrame (or print the results)\n",
        "print(df)\n",
        "\n",
        "\n",
        "matrix = np.zeros((I, J))\n",
        "\n",
        "for v in variables:\n",
        "    # Use regular expression to extract indices\n",
        "    match = re.search(r'\\[(\\d+),(\\d+)\\]', v.varName)  # Find indices within brackets\n",
        "    if match:\n",
        "        i, j = map(int, match.groups())  # Convert matched groups to integers\n",
        "        matrix[i, j] = v.X\n",
        "\n",
        "# Bước 5: Vẽ heatmap\n",
        "plt.figure(figsize=(8, 6))\n",
        "sns.heatmap(matrix, annot=True, cmap='YlGnBu', xticklabels=[f'j{j}' for j in range(J)], yticklabels=[f'i{i}' for j in range(I)]) # Corrected to range(I)\n",
        "plt.title('Heatmap of Variable Values')\n",
        "plt.xlabel('j (Trung tâm)')\n",
        "plt.ylabel('i (Nhà sản xuất)')\n",
        "plt.show()"
      ],
      "metadata": {
        "colab": {
          "base_uri": "https://localhost:8080/",
          "height": 1000
        },
        "id": "m_kUh8ZKdB_e",
        "outputId": "ca240171-13b1-4c21-bc8f-b4ea92e331ad"
      },
      "execution_count": 83,
      "outputs": [
        {
          "output_type": "stream",
          "name": "stdout",
          "text": [
            "   Variable  Value\n",
            "0   ij[0,0]    0.0\n",
            "1   ij[0,1]   15.0\n",
            "2   ij[0,2]   15.0\n",
            "3   ij[0,3]    0.0\n",
            "4   ij[1,0]   36.0\n",
            "5   ij[1,1]    0.0\n",
            "6   ij[1,2]    0.0\n",
            "7   ij[1,3]    0.0\n",
            "8   ij[2,0]    4.0\n",
            "9   ij[2,1]    4.0\n",
            "10  ij[2,2]   22.0\n",
            "11  ij[2,3]    1.0\n",
            "12  ij[3,0]    0.0\n",
            "13  ij[3,1]    0.0\n",
            "14  ij[3,2]    0.0\n",
            "15  ij[3,3]   34.0\n",
            "16  ij[4,0]    0.0\n",
            "17  ij[4,1]   31.0\n",
            "18  ij[4,2]    0.0\n",
            "19  ij[4,3]    0.0\n",
            "20     z[0]   -0.0\n",
            "21     z[1]    1.0\n",
            "22     z[2]    1.0\n",
            "23     z[3]   -0.0\n",
            "24     k[0]   12.0\n",
            "25     k[1]   -0.0\n",
            "26     k[2]   -0.0\n",
            "27     k[3]   -0.0\n"
          ]
        },
        {
          "output_type": "display_data",
          "data": {
            "text/plain": [
              "<Figure size 800x600 with 2 Axes>"
            ],
            "image/png": "[encoded data removed]"
          },
          "metadata": {}
        }
      ]
    },
    {
      "cell_type": "code",
      "source": [],
      "metadata": {
        "id": "G9gZklV-dPrx"
      },
      "execution_count": null,
      "outputs": []
    }
  ]
}